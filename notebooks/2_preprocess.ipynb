{
 "cells": [
  {
   "cell_type": "code",
   "execution_count": 8,
   "id": "9cc33ce4",
   "metadata": {},
   "outputs": [],
   "source": [
    "import pandas as pd"
   ]
  },
  {
   "cell_type": "code",
   "execution_count": 10,
   "id": "40d78a5a",
   "metadata": {},
   "outputs": [],
   "source": [
    "RAW_DATA_PATH = './data/raw-dataset-movielens100k'\n",
    "PREPROCESSED_DATA_PATH = './data/feature_store'"
   ]
  },
  {
   "cell_type": "markdown",
   "id": "e85f24c0",
   "metadata": {},
   "source": [
    "### Data Pre-processing"
   ]
  },
  {
   "cell_type": "code",
   "execution_count": 11,
   "id": "dc564980",
   "metadata": {},
   "outputs": [],
   "source": [
    "# 1. Movies: u.item file (pipe-separated)\n",
    "genre_cols = [\n",
    "    'unknown', 'Action', 'Adventure', 'Animation', \"Children's\", 'Comedy', 'Crime', \n",
    "    'Documentary', 'Drama', 'Fantasy', 'Film-Noir', 'Horror', 'Musical', 'Mystery', \n",
    "    'Romance', 'Sci-Fi', 'Thriller', 'War', 'Western'\n",
    "]\n",
    "movie_cols = ['movie_id', 'title', 'release_date', 'video_release_date', 'imdb_url'] + genre_cols\n",
    "\n",
    "movies = pd.read_csv(\n",
    "    f'{RAW_DATA_PATH}/u.item', sep='|', encoding='latin-1', header=None, \n",
    "    names=movie_cols)\n",
    "\n",
    "# genres as a string\n",
    "movies[\"genres\"] = movies[genre_cols].apply(\n",
    "    lambda row: \"|\".join([genre for genre, val in row.items() if val == 1]), axis=1)\n",
    "# extract release year\n",
    "movies[\"year\"] = movies[\"release_date\"].str.extract(r\"(\\d{4})\").fillna(\"unknown\")\n",
    "\n",
    "# save as a csv\n",
    "movies.to_csv(f'{PREPROCESSED_DATA_PATH}/movies.csv', index=False)\n",
    "\n",
    "# 2. Users: u.user file (pipe-separated)\n",
    "users = pd.read_csv(\n",
    "    f'{RAW_DATA_PATH}/u.user', sep='|', header=None, \n",
    "    names=['user_id', 'age', 'gender', 'occupation', 'zip_code'])\n",
    "\n",
    "# save as a csv\n",
    "users.to_csv(f'{PREPROCESSED_DATA_PATH}/users.csv', index=False)\n",
    "\n",
    "# 3. Ratings: u.data file (tab-separated)\n",
    "ratings = pd.read_csv(\n",
    "    f'{RAW_DATA_PATH}/u.data', sep='\\t', header=None, \n",
    "    names=['user_id', 'movie_id', 'rating', 'timestamp'])\n",
    "\n",
    "# join user features to the ratings\n",
    "ratings = ratings.merge(\n",
    "    users[['user_id', 'age', 'gender', 'occupation']], \n",
    "    on=\"user_id\", how=\"left\")\n",
    "\n",
    "# join movie features to the ratings\n",
    "ratings = ratings.merge(\n",
    "    movies[[\"movie_id\", \"title\", \"genres\", \"year\"]],\n",
    "    on=\"movie_id\", how=\"left\")\n",
    "\n",
    "# re-order columns\n",
    "ratings = ratings[['user_id', 'age', 'gender', 'occupation', 'movie_id', 'title', 'genres', 'year', 'rating', 'timestamp']]\n",
    "# save as a csv\n",
    "ratings.to_csv(f'{PREPROCESSED_DATA_PATH}/ratings.csv', index=False)"
   ]
  }
 ],
 "metadata": {
  "kernelspec": {
   "display_name": "py311",
   "language": "python",
   "name": "python3"
  },
  "language_info": {
   "codemirror_mode": {
    "name": "ipython",
    "version": 3
   },
   "file_extension": ".py",
   "mimetype": "text/x-python",
   "name": "python",
   "nbconvert_exporter": "python",
   "pygments_lexer": "ipython3",
   "version": "3.11.0"
  }
 },
 "nbformat": 4,
 "nbformat_minor": 5
}
