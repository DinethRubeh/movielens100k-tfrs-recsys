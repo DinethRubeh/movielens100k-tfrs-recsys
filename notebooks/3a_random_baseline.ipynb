{
 "cells": [
  {
   "cell_type": "code",
   "execution_count": null,
   "id": "9a8a682a",
   "metadata": {},
   "outputs": [],
   "source": [
    "import pandas as pd\n",
    "import numpy as np\n",
    "from sklearn.model_selection import train_test_split\n",
    "import random"
   ]
  },
  {
   "cell_type": "code",
   "execution_count": 34,
   "id": "ce105259",
   "metadata": {},
   "outputs": [],
   "source": [
    "TEST_SIZE = 0.2\n",
    "K_RECS = 10 # recommendation item count\n",
    "\n",
    "RATINGS_DATA_PATH = './data/ratings.csv'\n",
    "USER_DATA_PATH = './data/users.csv'\n",
    "ITEM_DATA_PATH = './data/movies.csv'"
   ]
  },
  {
   "cell_type": "code",
   "execution_count": 35,
   "id": "8302383f",
   "metadata": {},
   "outputs": [],
   "source": [
    "# Load data\n",
    "ratings_df = pd.read_csv(RATINGS_DATA_PATH)\n",
    "user_df = pd.read_csv(USER_DATA_PATH)\n",
    "item_df = pd.read_csv(ITEM_DATA_PATH)"
   ]
  },
  {
   "cell_type": "code",
   "execution_count": null,
   "id": "15536d85",
   "metadata": {},
   "outputs": [],
   "source": [
    "# train/test split\n",
    "train_df, test_df = train_test_split(\n",
    "    ratings_df, test_size=TEST_SIZE,\n",
    "    stratify=ratings_df['user_id'], # user-wise stratified\n",
    "    random_state=42\n",
    ")\n",
    "\n",
    "# lookups\n",
    "all_movies = set(item_df['movie_id'])\n",
    "user_seen_movies_dict_train = train_df.groupby('user_id')['item_id'].apply(set).to_dict()\n",
    "user_seen_movies_dict_test = test_df.groupby('user_id')['item_id'].apply(set).to_dict() # later for evaluation"
   ]
  },
  {
   "cell_type": "code",
   "execution_count": 37,
   "id": "897316a2",
   "metadata": {},
   "outputs": [],
   "source": [
    "# random recommendation generator\n",
    "def get_random_recommendations(user_id, k=K_RECS):\n",
    "    seen_movies = user_seen_movies_dict_train.get(user_id, set())\n",
    "    unseen_movies = list(all_movies - seen_movies)\n",
    "\n",
    "    # random sample k movies\n",
    "    return random.sample(unseen_movies, k) if len(unseen_movies) >= k else unseen_movies"
   ]
  },
  {
   "cell_type": "code",
   "execution_count": null,
   "id": "1d360e5b",
   "metadata": {},
   "outputs": [
    {
     "name": "stdout",
     "output_type": "stream",
     "text": [
      "Random Recommender Evaluation (k=10):\n",
      "HitRate@k: 0.1262\n",
      "Precision@k: 0.0143\n",
      "Recall@k: 0.0057\n",
      "NDCG@k: 0.0142\n"
     ]
    }
   ],
   "source": [
    "# evaluation\n",
    "def evaluate_random_recommender(user_seen_movies_dict:dict, k=K_RECS):\n",
    "    hits, precision_sum, recall_sum, ndcg_sum = 0, 0.0, 0.0, 0.0\n",
    "    total_users = 0\n",
    "\n",
    "    for user_id in user_seen_movies_dict:\n",
    "        true_set = set(user_seen_movies_dict[user_id])\n",
    "        recs = get_random_recommendations(user_id, k=k)\n",
    "        hit_set = true_set & set(recs)\n",
    "        num_hits = len(hit_set)\n",
    "        hits += int(num_hits > 0)\n",
    "        precision_sum += num_hits / k\n",
    "        recall_sum += num_hits / len(true_set)\n",
    "\n",
    "        # NDCG@k\n",
    "        dcg = 0.0\n",
    "        for i, movie in enumerate(recs):\n",
    "            if movie in true_set:\n",
    "                dcg += 1 / np.log2(i + 2)\n",
    "        idcg = sum(1 / np.log2(i + 2) for i in range(min(len(true_set), k)))\n",
    "        ndcg = dcg / idcg if idcg > 0 else 0\n",
    "        ndcg_sum += ndcg\n",
    "\n",
    "        total_users += 1\n",
    "\n",
    "    return {\n",
    "        'HitRate@k': hits / total_users,\n",
    "        'Precision@k': precision_sum / total_users,\n",
    "        'Recall@k': recall_sum / total_users,\n",
    "        'NDCG@k': ndcg_sum / total_users\n",
    "    }\n",
    "\n",
    "# evaluate on test\n",
    "metrics = evaluate_random_recommender(user_seen_movies_dict_test, k=K_RECS)\n",
    "print(f\"Random Recommender Evaluation (k={K_RECS}):\")\n",
    "for metric, value in metrics.items():\n",
    "    print(f\"{metric}: {value:.4f}\")"
   ]
  },
  {
   "cell_type": "code",
   "execution_count": null,
   "id": "a15456dd",
   "metadata": {},
   "outputs": [],
   "source": []
  },
  {
   "cell_type": "code",
   "execution_count": null,
   "id": "caa22674",
   "metadata": {},
   "outputs": [],
   "source": []
  },
  {
   "cell_type": "code",
   "execution_count": null,
   "id": "c5f8e717",
   "metadata": {},
   "outputs": [],
   "source": []
  },
  {
   "cell_type": "code",
   "execution_count": null,
   "id": "cb90d790",
   "metadata": {},
   "outputs": [],
   "source": []
  },
  {
   "cell_type": "code",
   "execution_count": null,
   "id": "d9576a55",
   "metadata": {},
   "outputs": [],
   "source": []
  },
  {
   "cell_type": "code",
   "execution_count": null,
   "id": "fc68b08f",
   "metadata": {},
   "outputs": [],
   "source": []
  },
  {
   "cell_type": "code",
   "execution_count": null,
   "id": "8a3cb8d5",
   "metadata": {},
   "outputs": [],
   "source": []
  }
 ],
 "metadata": {
  "kernelspec": {
   "display_name": "py312",
   "language": "python",
   "name": "python3"
  },
  "language_info": {
   "codemirror_mode": {
    "name": "ipython",
    "version": 3
   },
   "file_extension": ".py",
   "mimetype": "text/x-python",
   "name": "python",
   "nbconvert_exporter": "python",
   "pygments_lexer": "ipython3",
   "version": "3.12.0"
  }
 },
 "nbformat": 4,
 "nbformat_minor": 5
}
