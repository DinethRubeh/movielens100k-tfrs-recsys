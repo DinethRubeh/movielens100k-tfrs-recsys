{
 "cells": [
  {
   "cell_type": "code",
   "execution_count": 1,
   "id": "17bcc3c8",
   "metadata": {},
   "outputs": [
    {
     "name": "stdout",
     "output_type": "stream",
     "text": [
      "WARNING:tensorflow:From /opt/anaconda3/envs/py312/lib/python3.12/site-packages/tensorflow/python/compat/v2_compat.py:98: disable_resource_variables (from tensorflow.python.ops.resource_variables_toggle) is deprecated and will be removed in a future version.\n",
      "Instructions for updating:\n",
      "non-resource variables are not supported in the long term\n"
     ]
    }
   ],
   "source": [
    "import numpy as np\n",
    "import pandas as pd\n",
    "import tensorflow as tf\n",
    "from libreco.data import DatasetPure, split_by_ratio_chrono\n",
    "from libreco.algorithms import UserCF, ItemCF"
   ]
  },
  {
   "cell_type": "code",
   "execution_count": null,
   "id": "4cd6b4c2",
   "metadata": {},
   "outputs": [],
   "source": [
    "TEST_SIZE = 0.2\n",
    "\n",
    "RATINGS_DATA_PATH = './data/ratings.csv'\n",
    "USER_DATA_PATH = './data/users.csv'\n",
    "ITEM_DATA_PATH = './data/movies.csv'"
   ]
  },
  {
   "cell_type": "code",
   "execution_count": null,
   "id": "aa6e508a",
   "metadata": {},
   "outputs": [],
   "source": [
    "ratings_df = pd.read_csv(RATINGS_DATA_PATH)\n",
    "user_df = pd.read_csv(USER_DATA_PATH)\n",
    "item_df = pd.read_csv(ITEM_DATA_PATH)"
   ]
  },
  {
   "cell_type": "code",
   "execution_count": null,
   "id": "4dff7a77",
   "metadata": {},
   "outputs": [],
   "source": [
    "movie_id_name_map = dict(zip(item_df['movie_id'], item_df['title']))"
   ]
  },
  {
   "cell_type": "code",
   "execution_count": 4,
   "id": "40f918e5",
   "metadata": {},
   "outputs": [],
   "source": [
    "def reset_state(name):\n",
    "    tf.compat.v1.reset_default_graph()\n",
    "    print(\"\\n\", \"=\" * 30, name, \"=\" * 30)"
   ]
  },
  {
   "cell_type": "markdown",
   "id": "f3b28253",
   "metadata": {},
   "source": [
    "### transform original dataset to lib-rec supported dataset"
   ]
  },
  {
   "cell_type": "code",
   "execution_count": null,
   "id": "4b176bb7",
   "metadata": {},
   "outputs": [
    {
     "name": "stdout",
     "output_type": "stream",
     "text": [
      "n_users: 943, n_items: 1613, data density: 5.2595 %\n"
     ]
    }
   ],
   "source": [
    "# rename columns as expected by lib-rec\n",
    "ratings_df.rename(columns={'user_id':'user', 'item_id':'item', 'rating':'label', 'timestamp':'time'},inplace=True)\n",
    "# train/test split\n",
    "train_data, eval_data = split_by_ratio_chrono(ratings_df, test_size=TEST_SIZE)\n",
    "\n",
    "# DatasetPure since we're using a pure model\n",
    "train_data, train_data_info = DatasetPure.build_trainset(train_data)\n",
    "eval_data = DatasetPure.build_evalset(eval_data)\n",
    "print(train_data_info)"
   ]
  },
  {
   "cell_type": "markdown",
   "id": "2a2b60b9",
   "metadata": {},
   "source": [
    "### User-based CF"
   ]
  },
  {
   "cell_type": "code",
   "execution_count": 13,
   "id": "ef517647",
   "metadata": {},
   "outputs": [
    {
     "name": "stdout",
     "output_type": "stream",
     "text": [
      "\n",
      " ============================== user_cf ==============================\n",
      "Training start time: \u001b[35m2025-07-06 17:59:28\u001b[0m\n",
      "Final block size and num: (943, 1)\n",
      "sim_matrix elapsed: 0.026s\n",
      "sim_matrix, shape: (943, 943), num_elements: 837062, density: 94.1313 %\n"
     ]
    },
    {
     "name": "stderr",
     "output_type": "stream",
     "text": [
      "top_k: 100%|██████████| 943/943 [00:00<00:00, 5063.74it/s]\n",
      "eval_pointwise:  20%|██        | 1/5 [00:00<00:00,  5.90it/s]"
     ]
    },
    {
     "name": "stdout",
     "output_type": "stream",
     "text": [
      "\u001b[31mNo common interaction or similar neighbor for user 0 and item 1031, proceed with default prediction\u001b[0m\n",
      "\u001b[31mNo common interaction or similar neighbor for user 0 and item 2, proceed with default prediction\u001b[0m\n",
      "\u001b[31mNo common interaction or similar neighbor for user 0 and item 40, proceed with default prediction\u001b[0m\n",
      "\u001b[31mNo common interaction or similar neighbor for user 0 and item 1187, proceed with default prediction\u001b[0m\n",
      "\u001b[31mNo common interaction or similar neighbor for user 0 and item 1091, proceed with default prediction\u001b[0m\n",
      "\u001b[31mNo common interaction or similar neighbor for user 0 and item 1439, proceed with default prediction\u001b[0m\n"
     ]
    },
    {
     "name": "stderr",
     "output_type": "stream",
     "text": [
      "eval_pointwise: 100%|██████████| 5/5 [00:00<00:00,  6.12it/s]\n",
      "eval_listwise: 100%|██████████| 189/189 [00:03<00:00, 57.84it/s]\n"
     ]
    },
    {
     "name": "stdout",
     "output_type": "stream",
     "text": [
      "\t eval log_loss: 3.9621\n",
      "\t eval balanced_accuracy: 0.5035\n",
      "\t eval precision@10: 0.1639\n",
      "\t eval recall@10: 0.1164\n",
      "\t eval map@10: 0.3111\n",
      "\t eval ndcg@10: 0.4172\n",
      "==============================\n"
     ]
    }
   ],
   "source": [
    "# train model\n",
    "reset_state(\"user_cf\")\n",
    "\n",
    "metrics = [\"loss\", \"balanced_accuracy\", \"precision\", \"recall\", \"map\", \"ndcg\"]\n",
    "user_cf = UserCF(\n",
    "    task=\"ranking\",\n",
    "    data_info=train_data_info,\n",
    "    k_sim=20,\n",
    "    sim_type=\"cosine\",\n",
    "    num_threads=1,\n",
    "    min_common=1,\n",
    ")\n",
    "user_cf.fit(\n",
    "    train_data,\n",
    "    neg_sampling=True,\n",
    "    verbose=2,\n",
    "    eval_data=eval_data,\n",
    "    metrics=metrics,\n",
    ")"
   ]
  },
  {
   "cell_type": "code",
   "execution_count": 33,
   "id": "1464af0f",
   "metadata": {},
   "outputs": [
    {
     "name": "stdout",
     "output_type": "stream",
     "text": [
      "user_id: 2\n",
      "\n",
      "prediction for Pulp Fiction (1994):  0.15837383\n",
      "--------------------------------------------------\n",
      "\n",
      "top-N recommendations: 2 : \n",
      " ['Lone Star (1996)', 'Big Night (1996)', 'Star Wars (1977)', 'Boot, Das (1981)', 'Cold Comfort Farm (1995)', 'Evita (1996)', 'People vs. Larry Flynt, The (1996)']\n",
      "--------------------------------------------------\n",
      "\n",
      "Top Rated movies by user:\n",
      "                            title  label\n",
      "43  Wings of the Dove, The (1997)      5\n",
      "55       Good Will Hunting (1997)      5\n",
      "27                   Kolya (1996)      5\n",
      "28                    Emma (1996)      5\n",
      "51          Godfather, The (1972)      5\n",
      "52          Secrets & Lies (1996)      5\n",
      "1          Shall We Dance? (1996)      5\n",
      "17                 Titanic (1997)      5\n",
      "14      As Good As It Gets (1997)      5\n",
      "50                   Fargo (1996)      5\n"
     ]
    }
   ],
   "source": [
    "# inference on sample user\n",
    "user_id = 2\n",
    "movie_id = 56\n",
    "top_n = 7\n",
    "\n",
    "print(f\"user_id: {user_id}\\n\")\n",
    "print(f\"prediction for {movie_id_name_map[movie_id]}: \", user_cf.predict(user=user_id, item=movie_id))\n",
    "print(\"-\"*50)\n",
    "\n",
    "top_n_recs = list(user_cf.recommend_user(user=user_id, n_rec=top_n)[user_id])\n",
    "top_n_recs = [movie_id_name_map[m_id] for m_id in top_n_recs]\n",
    "print(f\"\\ntop-N recommendations: {user_id} : \\n\", top_n_recs)\n",
    "print(\"-\"*50)\n",
    "\n",
    "user_ratings = ratings_df[ratings_df['user'] == user_id] # records rated by user\n",
    "user_ratings = pd.merge(user_ratings, item_df, left_on='item', right_on='movie_id')[['title', 'label']].sort_values(by='label', ascending=False) # merge movie titles & sort by rating\n",
    "print(f\"\\nTop Rated movies by user:\")\n",
    "print(user_ratings.head(10))"
   ]
  },
  {
   "cell_type": "markdown",
   "id": "8e46fa83",
   "metadata": {},
   "source": [
    "### Item-based CF"
   ]
  },
  {
   "cell_type": "code",
   "execution_count": 34,
   "id": "7426eb6f",
   "metadata": {},
   "outputs": [
    {
     "name": "stdout",
     "output_type": "stream",
     "text": [
      "Training start time: \u001b[35m2025-07-06 18:36:00\u001b[0m\n",
      "Final block size and num: (1613, 1)\n",
      "sim_matrix elapsed: 0.074s\n",
      "sim_matrix, shape: (1613, 1613), num_elements: 1575868, density: 60.5691 %\n"
     ]
    },
    {
     "name": "stderr",
     "output_type": "stream",
     "text": [
      "top_k: 100%|██████████| 1613/1613 [00:00<00:00, 5269.30it/s]\n",
      "eval_pointwise:   0%|          | 0/5 [00:00<?, ?it/s]"
     ]
    },
    {
     "name": "stdout",
     "output_type": "stream",
     "text": [
      "\u001b[31mNo common interaction or similar neighbor for user 2 and item 320, proceed with default prediction\u001b[0m\n",
      "\u001b[31mNo common interaction or similar neighbor for user 2 and item 508, proceed with default prediction\u001b[0m\n",
      "\u001b[31mNo common interaction or similar neighbor for user 2 and item 327, proceed with default prediction\u001b[0m\n",
      "\u001b[31mNo common interaction or similar neighbor for user 2 and item 431, proceed with default prediction\u001b[0m\n",
      "\u001b[31mNo common interaction or similar neighbor for user 2 and item 326, proceed with default prediction\u001b[0m\n",
      "\u001b[31mNo common interaction or similar neighbor for user 2 and item 340, proceed with default prediction\u001b[0m\n"
     ]
    },
    {
     "name": "stderr",
     "output_type": "stream",
     "text": [
      "eval_pointwise: 100%|██████████| 5/5 [00:01<00:00,  4.30it/s]\n",
      "eval_listwise: 100%|██████████| 189/189 [00:02<00:00, 91.36it/s] "
     ]
    },
    {
     "name": "stdout",
     "output_type": "stream",
     "text": [
      "\t eval log_loss: 2.3414\n",
      "\t eval balanced_accuracy: 0.5069\n",
      "\t eval precision@10: 0.1685\n",
      "\t eval recall@10: 0.1215\n",
      "\t eval map@10: 0.3274\n",
      "\t eval ndcg@10: 0.4417\n",
      "==============================\n"
     ]
    },
    {
     "name": "stderr",
     "output_type": "stream",
     "text": [
      "\n"
     ]
    }
   ],
   "source": [
    "# train model\n",
    "item_cf = ItemCF(\n",
    "        task=\"ranking\",\n",
    "        data_info=train_data_info,\n",
    "        k_sim=20,\n",
    "        sim_type=\"cosine\",\n",
    "        num_threads=1,\n",
    "        min_common=1,\n",
    "    )\n",
    "item_cf.fit(\n",
    "    train_data,\n",
    "    neg_sampling=True,\n",
    "    verbose=2,\n",
    "    eval_data=eval_data,\n",
    "    metrics=metrics,\n",
    ")"
   ]
  },
  {
   "cell_type": "code",
   "execution_count": 35,
   "id": "f0543ab2",
   "metadata": {},
   "outputs": [
    {
     "name": "stdout",
     "output_type": "stream",
     "text": [
      "user_id: 2\n",
      "\n",
      "prediction for Pulp Fiction (1994):  0.31714958\n",
      "--------------------------------------------------\n",
      "\n",
      "top-N recommendations: 2 : \n",
      " ['Star Wars (1977)', 'Rock, The (1996)', 'Return of the Jedi (1983)', 'Independence Day (ID4) (1996)', 'Twelve Monkeys (1995)', 'Mission: Impossible (1996)', 'Ransom (1996)']\n",
      "--------------------------------------------------\n",
      "\n",
      "Top Rated movies by user:\n",
      "                            title  label\n",
      "43  Wings of the Dove, The (1997)      5\n",
      "55       Good Will Hunting (1997)      5\n",
      "27                   Kolya (1996)      5\n",
      "28                    Emma (1996)      5\n",
      "51          Godfather, The (1972)      5\n",
      "52          Secrets & Lies (1996)      5\n",
      "1          Shall We Dance? (1996)      5\n",
      "17                 Titanic (1997)      5\n",
      "14      As Good As It Gets (1997)      5\n",
      "50                   Fargo (1996)      5\n"
     ]
    }
   ],
   "source": [
    "# inference on sample user\n",
    "user_id = 2\n",
    "movie_id = 56\n",
    "top_n = 7\n",
    "\n",
    "print(f\"user_id: {user_id}\\n\")\n",
    "print(f\"prediction for {movie_id_name_map[movie_id]}: \", item_cf.predict(user=user_id, item=movie_id))\n",
    "print(\"-\"*50)\n",
    "\n",
    "top_n_recs = list(item_cf.recommend_user(user=user_id, n_rec=top_n)[user_id])\n",
    "top_n_recs = [movie_id_name_map[m_id] for m_id in top_n_recs]\n",
    "print(f\"\\ntop-N recommendations: {user_id} : \\n\", top_n_recs)\n",
    "print(\"-\"*50)\n",
    "\n",
    "user_ratings = ratings_df[ratings_df['user'] == user_id] # records rated by user\n",
    "user_ratings = pd.merge(user_ratings, item_df, left_on='item', right_on='movie_id')[['title', 'label']].sort_values(by='label', ascending=False) # merge movie titles & sort by rating\n",
    "print(f\"\\nTop Rated movies by user:\")\n",
    "print(user_ratings.head(10))"
   ]
  },
  {
   "cell_type": "code",
   "execution_count": null,
   "id": "28da582a",
   "metadata": {},
   "outputs": [],
   "source": []
  }
 ],
 "metadata": {
  "kernelspec": {
   "display_name": "py312",
   "language": "python",
   "name": "python3"
  },
  "language_info": {
   "codemirror_mode": {
    "name": "ipython",
    "version": 3
   },
   "file_extension": ".py",
   "mimetype": "text/x-python",
   "name": "python",
   "nbconvert_exporter": "python",
   "pygments_lexer": "ipython3",
   "version": "3.12.0"
  }
 },
 "nbformat": 4,
 "nbformat_minor": 5
}
