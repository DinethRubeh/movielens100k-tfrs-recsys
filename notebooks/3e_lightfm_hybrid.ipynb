{
 "cells": [
  {
   "cell_type": "code",
   "execution_count": 1,
   "id": "2d91ef56",
   "metadata": {},
   "outputs": [
    {
     "name": "stderr",
     "output_type": "stream",
     "text": [
      "/opt/anaconda3/envs/py311/lib/python3.11/site-packages/lightfm/_lightfm_fast.py:9: UserWarning: LightFM was compiled without OpenMP support. Only a single thread will be used.\n",
      "  warnings.warn(\n"
     ]
    }
   ],
   "source": [
    "from lightfm import LightFM\n",
    "from lightfm.data import Dataset\n",
    "from lightfm.data import Dataset as LFM_Dataset\n",
    "from lightfm.evaluation import precision_at_k\n",
    "from sklearn.model_selection import train_test_split\n",
    "import pandas as pd\n",
    "import numpy as np"
   ]
  },
  {
   "cell_type": "code",
   "execution_count": 2,
   "id": "41512cf1",
   "metadata": {},
   "outputs": [],
   "source": [
    "RATINGS_DATA_PATH = './data/ratings.csv'\n",
    "USER_DATA_PATH = './data/users.csv'\n",
    "ITEM_DATA_PATH = './data/movies.csv'\n",
    "\n",
    "TEST_SIZE = 0.2\n",
    "K_RECS = 10\n",
    "LR = 0.05\n",
    "EPOCHS = 10"
   ]
  },
  {
   "cell_type": "code",
   "execution_count": 5,
   "id": "e574cc66",
   "metadata": {},
   "outputs": [],
   "source": [
    "# Load data\n",
    "ratings_df = pd.read_csv(RATINGS_DATA_PATH)\n",
    "user_df = pd.read_csv(USER_DATA_PATH)\n",
    "item_df = pd.read_csv(ITEM_DATA_PATH)\n",
    "\n",
    "# train/test split\n",
    "train_df, test_df = train_test_split(\n",
    "    ratings_df, test_size=TEST_SIZE,\n",
    "    stratify=ratings_df['user_id'],\n",
    "    random_state=42\n",
    ")\n",
    "\n",
    "# test set (later for evaluation)\n",
    "user_seen_movies_dict_test = test_df.groupby('user_id')['item_id'].apply(set).to_dict()\n",
    "\n",
    "# lightFM dataset object\n",
    "lfm_dataset = Dataset()\n",
    "\n",
    "# fit the dataset with id's and features\n",
    "lfm_dataset.fit(\n",
    "    users=ratings_df['user_id'].unique(),\n",
    "    items=ratings_df['item_id'].unique(),\n",
    "    user_features=[\n",
    "        f\"{col}:{val}\" for col in user_df.columns[1:] for val in user_df[col].unique()\n",
    "    ],\n",
    "    item_features=[\n",
    "        f\"{col}:{val}\" for col in item_df.columns[1:] for val in item_df[col].unique()\n",
    "    ]\n",
    "    # user_features=user_df.columns[1:].tolist(),\n",
    "    # item_features=item_df.columns[1:].tolist()\n",
    ")\n",
    "\n",
    "# build user/item features matrices\n",
    "user_features = user_df.set_index('user_id')\n",
    "item_features = item_df.set_index('movie_id')\n",
    "\n",
    "def build_features(features_df, ids):\n",
    "    tuples = []\n",
    "    for idx, row in features_df.loc[ids].iterrows():\n",
    "        features = [f\"{col}:{row[col]}\" for col in features_df.columns]\n",
    "        tuples.append((idx, features))\n",
    "    return tuples\n",
    "\n",
    "# Build interactions\n",
    "interactions, _ = lfm_dataset.build_interactions([(uid, iid, 1.0) for uid, iid in zip(train_df['user_id'], train_df['item_id'])]) # returns tuple of csr_matrix\n",
    "\n",
    "# Build user/item features\n",
    "user_feature_tuples = build_features(user_features, train_df['user_id'].unique())\n",
    "item_feature_tuples = build_features(item_features, train_df['item_id'].unique())\n",
    "\n",
    "user_features_matrix = lfm_dataset.build_user_features(user_feature_tuples)\n",
    "item_features_matrix = lfm_dataset.build_item_features(item_feature_tuples)\n",
    "\n",
    "\n"
   ]
  },
  {
   "cell_type": "code",
   "execution_count": 6,
   "id": "7cdb4f1c",
   "metadata": {},
   "outputs": [
    {
     "name": "stdout",
     "output_type": "stream",
     "text": [
      "Epoch 0\n",
      "Epoch 1\n",
      "Epoch 2\n",
      "Epoch 3\n",
      "Epoch 4\n",
      "Epoch 5\n",
      "Epoch 6\n",
      "Epoch 7\n",
      "Epoch 8\n",
      "Epoch 9\n"
     ]
    },
    {
     "data": {
      "text/plain": [
       "<lightfm.lightfm.LightFM at 0x10e0bb9d0>"
      ]
     },
     "execution_count": 6,
     "metadata": {},
     "output_type": "execute_result"
    }
   ],
   "source": [
    "# Train LightFM model (Hybrid with metadata)\n",
    "model = LightFM(loss='warp', learning_rate=LR, random_state=42) # warp, bpr\n",
    "model.fit(\n",
    "    interactions,\n",
    "    user_features=user_features_matrix,\n",
    "    item_features=item_features_matrix,\n",
    "    epochs=EPOCHS,\n",
    "    num_threads=2,\n",
    "    verbose=True\n",
    ")"
   ]
  },
  {
   "cell_type": "code",
   "execution_count": 11,
   "id": "e6fcf996",
   "metadata": {},
   "outputs": [],
   "source": [
    "def get_recommendations(user_id, k=K_RECS):\n",
    "    seen_movies = set(train_df[train_df['user_id'] == user_id]['item_id'])\n",
    "    all_candidate_movies = list(set(item_df['movie_id']) - seen_movies)\n",
    "    \n",
    "    user_index = lfm_dataset.mapping()[0][user_id]\n",
    "    item_mapping = lfm_dataset.mapping()[2]\n",
    "    reverse_item_mapping = {v: k for k, v in item_mapping.items()}\n",
    "\n",
    "    # Filter valid candidate movies present in LightFM mapping\n",
    "    valid_candidates = [m for m in all_candidate_movies if m in item_mapping]\n",
    "    candidate_indices = [item_mapping[m] for m in valid_candidates]\n",
    "\n",
    "    # Predict scores\n",
    "    scores = model.predict(\n",
    "        user_ids=user_index,\n",
    "        item_ids=candidate_indices,\n",
    "        user_features=user_features_matrix,\n",
    "        item_features=item_features_matrix\n",
    "    )\n",
    "\n",
    "    # Top-k indices and corresponding movie_ids\n",
    "    top_k_idx = np.argsort(-scores)[:k]\n",
    "    top_k_movie_ids = [valid_candidates[i] for i in top_k_idx]\n",
    "    top_k_scores = [scores[i] for i in top_k_idx]\n",
    "\n",
    "    # merge movie metadata\n",
    "    metadata = item_df.set_index('movie_id').loc[top_k_movie_ids][['title']].reset_index()\n",
    "    metadata['score'] = top_k_scores\n",
    "\n",
    "    return metadata[['movie_id', 'title', 'score']]"
   ]
  },
  {
   "cell_type": "code",
   "execution_count": 12,
   "id": "5b326a10",
   "metadata": {},
   "outputs": [
    {
     "name": "stdout",
     "output_type": "stream",
     "text": [
      "   movie_id                        title      score\n",
      "0        50             Star Wars (1977) -18.568016\n",
      "1       100                 Fargo (1996) -18.921183\n",
      "2       258               Contact (1997) -18.943678\n",
      "3       288                Scream (1996) -18.987839\n",
      "4        56          Pulp Fiction (1994) -19.057384\n",
      "5       127        Godfather, The (1972) -19.120678\n",
      "6       286  English Patient, The (1996) -19.196796\n",
      "7         7        Twelve Monkeys (1995) -19.218435\n",
      "8       300         Air Force One (1997) -19.257360\n",
      "9       117             Rock, The (1996) -19.318903\n"
     ]
    }
   ],
   "source": [
    "user_id = 42\n",
    "k = 10\n",
    "top_k_recs_df = get_recommendations(user_id, k=k)\n",
    "print(top_k_recs_df)"
   ]
  },
  {
   "cell_type": "code",
   "execution_count": 13,
   "id": "3d7442bc",
   "metadata": {},
   "outputs": [
    {
     "name": "stdout",
     "output_type": "stream",
     "text": [
      "LightFM Hybrid Recommender Evaluation (k=10):\n",
      "HitRate@k: 0.7646\n",
      "Precision@k: 0.2004\n",
      "Recall@k: 0.1112\n",
      "NDCG@k: 0.2270\n"
     ]
    }
   ],
   "source": [
    "def evaluate_recommender(user_seen_movies_dict: dict, k=K_RECS):\n",
    "    hits, precision_sum, recall_sum, ndcg_sum = 0, 0.0, 0.0, 0.0\n",
    "    total_users = 0\n",
    "\n",
    "    for user_id in user_seen_movies_dict:\n",
    "        true_set = set(user_seen_movies_dict[user_id])\n",
    "        recs_df = get_recommendations(user_id, k=k)\n",
    "        recs = recs_df['movie_id'].tolist()\n",
    "        hit_set = true_set & set(recs)\n",
    "        num_hits = len(hit_set)\n",
    "        hits += int(num_hits > 0)\n",
    "        precision_sum += num_hits / k\n",
    "        recall_sum += num_hits / len(true_set)\n",
    "\n",
    "        # NDCG@k\n",
    "        dcg = 0.0\n",
    "        for i, movie in enumerate(recs):\n",
    "            if movie in true_set:\n",
    "                dcg += 1 / np.log2(i + 2)\n",
    "        idcg = sum(1 / np.log2(i + 2) for i in range(min(len(true_set), k)))\n",
    "        ndcg = dcg / idcg if idcg > 0 else 0\n",
    "        ndcg_sum += ndcg\n",
    "\n",
    "        total_users += 1\n",
    "\n",
    "    return {\n",
    "        'HitRate@k': hits / total_users,\n",
    "        'Precision@k': precision_sum / total_users,\n",
    "        'Recall@k': recall_sum / total_users,\n",
    "        'NDCG@k': ndcg_sum / total_users\n",
    "    }\n",
    "\n",
    "\n",
    "# Evaluate\n",
    "metrics = evaluate_recommender(user_seen_movies_dict_test, k=K_RECS)\n",
    "print(f\"LightFM Hybrid Recommender Evaluation (k={K_RECS}):\")\n",
    "for metric, value in metrics.items():\n",
    "    print(f\"{metric}: {value:.4f}\")\n"
   ]
  },
  {
   "cell_type": "code",
   "execution_count": null,
   "id": "c91fe467",
   "metadata": {},
   "outputs": [],
   "source": []
  },
  {
   "cell_type": "code",
   "execution_count": null,
   "id": "34ac7628",
   "metadata": {},
   "outputs": [],
   "source": []
  },
  {
   "cell_type": "code",
   "execution_count": null,
   "id": "b520b96f",
   "metadata": {},
   "outputs": [],
   "source": []
  },
  {
   "cell_type": "code",
   "execution_count": null,
   "id": "c5b4a7ca",
   "metadata": {},
   "outputs": [],
   "source": []
  },
  {
   "cell_type": "code",
   "execution_count": null,
   "id": "0bbaf03b",
   "metadata": {},
   "outputs": [],
   "source": []
  },
  {
   "cell_type": "code",
   "execution_count": null,
   "id": "f6611d77",
   "metadata": {},
   "outputs": [],
   "source": []
  }
 ],
 "metadata": {
  "kernelspec": {
   "display_name": "py311",
   "language": "python",
   "name": "python3"
  },
  "language_info": {
   "codemirror_mode": {
    "name": "ipython",
    "version": 3
   },
   "file_extension": ".py",
   "mimetype": "text/x-python",
   "name": "python",
   "nbconvert_exporter": "python",
   "pygments_lexer": "ipython3",
   "version": "3.11.0"
  }
 },
 "nbformat": 4,
 "nbformat_minor": 5
}
